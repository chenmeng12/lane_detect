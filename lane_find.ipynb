{
 "cells": [
  {
   "cell_type": "code",
   "execution_count": 15,
   "metadata": {
    "collapsed": true,
    "pycharm": {
     "is_executing": false
    }
   },
   "outputs": [],
   "source": [
    "import cv2\n",
    "import numpy as np\n"
   ]
  },
  {
   "cell_type": "code",
   "execution_count": 14,
   "outputs": [
    {
     "data": {
      "text/plain": "-1"
     },
     "metadata": {},
     "output_type": "execute_result",
     "execution_count": 14
    }
   ],
   "source": [
    "# 第一步：读入图片\n",
    "image_path = 'test_images/test3.jpg'\n",
    "image = cv2.imread(image_path)\n",
    "cv2.imshow('image', image)\n",
    "cv2.waitKey(0)\n"
   ],
   "metadata": {
    "collapsed": false,
    "pycharm": {
     "name": "#%%\n",
     "is_executing": false
    }
   }
  },
  {
   "cell_type": "code",
   "execution_count": 20,
   "outputs": [],
   "source": [
    "# 第二步：高斯平滑，去除噪声，canny边缘检测\n",
    "def canny(img, ksize=(5,5), sigmaX=0, low_threshold=100, high_threshold=200):\n",
    "\t\n",
    "\timage = cv2.GaussianBlur(img, ksize, sigmaX)\n",
    "\t\n",
    "\treturn cv2.Canny(image, low_threshold, high_threshold)"
   ],
   "metadata": {
    "collapsed": false,
    "pycharm": {
     "name": "#%%\n",
     "is_executing": false
    }
   }
  },
  {
   "cell_type": "code",
   "execution_count": 21,
   "outputs": [
    {
     "data": {
      "text/plain": "-1"
     },
     "metadata": {},
     "output_type": "execute_result",
     "execution_count": 21
    }
   ],
   "source": [
    "\n",
    "canny_img = canny(image)\n",
    "cv2.imshow('canny_img', canny_img)\n",
    "cv2.waitKey(0)\n"
   ],
   "metadata": {
    "collapsed": false,
    "pycharm": {
     "name": "#%%\n",
     "is_executing": false
    }
   }
  },
  {
   "cell_type": "code",
   "execution_count": 22,
   "outputs": [],
   "source": [
    "# 第三步: 选定ROI, 对图像进行掩模操作，只显示ROI区域\n",
    "def region_of_interest(img):\n",
    "\theight = img.shape[0]\n",
    "\twidth = img.shape[1]\n",
    "\tregion_of_interest_vertices = [(0, height),\n",
    "\t                               (width/2, height/2),\n",
    "\t                               (width, height)]\n",
    "\tmask = np.zeros_like(img)\n",
    "\tcolor = 255\n",
    "\tcv2.fillPoly(mask, np.array([region_of_interest_vertices], np.int32), color)\n",
    "\tmask_image = cv2.bitwise_and(img, mask)\n",
    "\treturn mask_image\n"
   ],
   "metadata": {
    "collapsed": false,
    "pycharm": {
     "name": "#%%\n",
     "is_executing": false
    }
   }
  },
  {
   "cell_type": "code",
   "execution_count": 24,
   "outputs": [
    {
     "data": {
      "text/plain": "-1"
     },
     "metadata": {},
     "output_type": "execute_result",
     "execution_count": 24
    }
   ],
   "source": [
    "ROI_img = region_of_interest(canny_img)\n",
    "cv2.imshow('ROI_img', ROI_img)\n",
    "cv2.waitKey(0)"
   ],
   "metadata": {
    "collapsed": false,
    "pycharm": {
     "name": "#%%\n",
     "is_executing": false
    }
   }
  },
  {
   "cell_type": "code",
   "execution_count": 16,
   "outputs": [],
   "source": [
    "# 第四步：hough变换，检测直线，并与原图混合\n",
    "def hough_lines(img, rho=6, theta=np.pi/180, threshold=160, min_line_len=40, max_line_gap=25):\n",
    "\t\n",
    "\tlines = cv2.HoughLinesP(img, rho, theta, threshold, np.array([]), minLineLength=min_line_len,\n",
    "\t                        maxLineGap=max_line_gap)\n",
    "\t\n",
    "\treturn lines\n",
    "\n",
    "def draw_lines(img, lines, color=[255,0,0], thickness=3):\n",
    "\t\n",
    "\tif lines is None:\n",
    "\t\treturn \n",
    "\timg = np.copy(img)\n",
    "\timg_channels = img.shape[2]\n",
    "\tline_img = np.zeros((img.shape[0], img.shape[1], img_channels), dtype=np.uint8)\n",
    "\tfor line in lines:\n",
    "\t\tfor x1, y1, x2, y2 in line:\n",
    "\t\t\tcv2.line(line_img, (x1, y1), (x2, y2), color, thickness)\n",
    "\timg = cv2.addWeighted(img, 0.8, line_img, 1.0, 0.0)\n",
    "\treturn line_img, img"
   ],
   "metadata": {
    "collapsed": false,
    "pycharm": {
     "name": "#%%\n",
     "is_executing": false
    }
   }
  },
  {
   "cell_type": "code",
   "execution_count": 25,
   "outputs": [
    {
     "data": {
      "text/plain": "-1"
     },
     "metadata": {},
     "output_type": "execute_result",
     "execution_count": 25
    }
   ],
   "source": [
    "lines = hough_lines(ROI_img)\n",
    "line_img, img = draw_lines(image, lines)\n",
    "cv2.imshow('line_img', line_img)\n",
    "cv2.imshow('img', img)\n",
    "cv2.waitKey(0)"
   ],
   "metadata": {
    "collapsed": false,
    "pycharm": {
     "name": "#%%\n",
     "is_executing": false
    }
   }
  },
  {
   "cell_type": "code",
   "execution_count": null,
   "outputs": [],
   "source": [
    "#第6步：直线拟合，根据端点画出左右lane\n"
   ],
   "metadata": {
    "collapsed": false,
    "pycharm": {
     "name": "#%%\n"
    }
   }
  }
 ],
 "metadata": {
  "kernelspec": {
   "display_name": "Python 3",
   "language": "python",
   "name": "python3"
  },
  "language_info": {
   "codemirror_mode": {
    "name": "ipython",
    "version": 2
   },
   "file_extension": ".py",
   "mimetype": "text/x-python",
   "name": "python",
   "nbconvert_exporter": "python",
   "pygments_lexer": "ipython2",
   "version": "2.7.6"
  },
  "pycharm": {
   "stem_cell": {
    "cell_type": "raw",
    "source": [],
    "metadata": {
     "collapsed": false
    }
   }
  }
 },
 "nbformat": 4,
 "nbformat_minor": 0
}