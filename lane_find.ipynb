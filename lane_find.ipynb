{
 "cells": [
  {
   "cell_type": "code",
   "execution_count": 2,
   "metadata": {
    "collapsed": true,
    "pycharm": {
     "is_executing": false
    }
   },
   "outputs": [],
   "source": [
    "import cv2\n",
    "import numpy as np\n"
   ]
  },
  {
   "cell_type": "code",
   "execution_count": 3,
   "outputs": [
    {
     "data": {
      "text/plain": "-1"
     },
     "metadata": {},
     "output_type": "execute_result",
     "execution_count": 3
    }
   ],
   "source": [
    "# 第一步：读入图片\n",
    "image_path = 'test_images/test3.jpg'\n",
    "image = cv2.imread(image_path)\n",
    "cv2.imshow('image', image)\n",
    "cv2.waitKey(0)\n"
   ],
   "metadata": {
    "collapsed": false,
    "pycharm": {
     "name": "#%%\n",
     "is_executing": false
    }
   }
  },
  {
   "cell_type": "code",
   "execution_count": 4,
   "outputs": [],
   "source": [
    "# 第二步：高斯平滑，去除噪声，canny边缘检测\n",
    "def canny(img, ksize=(5,5), sigmaX=0, low_threshold=100, high_threshold=200):\n",
    "\t\n",
    "\timage = cv2.GaussianBlur(img, ksize, sigmaX)\n",
    "\t\n",
    "\treturn cv2.Canny(image, low_threshold, high_threshold)"
   ],
   "metadata": {
    "collapsed": false,
    "pycharm": {
     "name": "#%%\n",
     "is_executing": false
    }
   }
  },
  {
   "cell_type": "code",
   "execution_count": 5,
   "outputs": [
    {
     "data": {
      "text/plain": "-1"
     },
     "metadata": {},
     "output_type": "execute_result",
     "execution_count": 5
    }
   ],
   "source": [
    "\n",
    "canny_img = canny(image)\n",
    "cv2.imshow('canny_img', canny_img)\n",
    "cv2.waitKey(0)\n"
   ],
   "metadata": {
    "collapsed": false,
    "pycharm": {
     "name": "#%%\n",
     "is_executing": false
    }
   }
  },
  {
   "cell_type": "code",
   "execution_count": 6,
   "outputs": [],
   "source": [
    "# 第三步: 选定ROI, 对图像进行掩模操作，只显示ROI区域\n",
    "def region_of_interest(img):\n",
    "\theight = img.shape[0]\n",
    "\twidth = img.shape[1]\n",
    "\tregion_of_interest_vertices = [(0, height),\n",
    "\t                               (width/2, height/2),\n",
    "\t                               (width, height)]\n",
    "\tmask = np.zeros_like(img)\n",
    "\tcolor = 255\n",
    "\tcv2.fillPoly(mask, np.array([region_of_interest_vertices], np.int32), color)\n",
    "\tmask_image = cv2.bitwise_and(img, mask)\n",
    "\treturn mask_image\n"
   ],
   "metadata": {
    "collapsed": false,
    "pycharm": {
     "name": "#%%\n",
     "is_executing": false
    }
   }
  },
  {
   "cell_type": "code",
   "execution_count": 7,
   "outputs": [
    {
     "data": {
      "text/plain": "-1"
     },
     "metadata": {},
     "output_type": "execute_result",
     "execution_count": 7
    }
   ],
   "source": [
    "ROI_img = region_of_interest(canny_img)\n",
    "cv2.imshow('ROI_img', ROI_img)\n",
    "cv2.waitKey(0)"
   ],
   "metadata": {
    "collapsed": false,
    "pycharm": {
     "name": "#%%\n",
     "is_executing": false
    }
   }
  },
  {
   "cell_type": "code",
   "execution_count": 8,
   "outputs": [],
   "source": [
    "# 第四步：hough变换，检测直线，并与原图混合\n",
    "def hough_lines(img, rho=6, theta=np.pi/180, threshold=160, min_line_len=40, max_line_gap=25):\n",
    "\t\n",
    "\tlines = cv2.HoughLinesP(img, rho, theta, threshold, np.array([]), minLineLength=min_line_len,\n",
    "\t                        maxLineGap=max_line_gap)\n",
    "\t\n",
    "\treturn lines\n",
    "\n",
    "def draw_lines(img, lines, color=[255,0,0], thickness=3):\n",
    "\t\n",
    "\tif lines is None:\n",
    "\t\treturn \n",
    "\timg = np.copy(img)\n",
    "\timg_channels = img.shape[2]\n",
    "\tline_img = np.zeros((img.shape[0], img.shape[1], img_channels), dtype=np.uint8)\n",
    "\tfor line in lines:\n",
    "\t\tfor x1, y1, x2, y2 in line:\n",
    "\t\t\tcv2.line(line_img, (x1, y1), (x2, y2), color, thickness)\n",
    "\timg = cv2.addWeighted(img, 0.8, line_img, 1.0, 0.0)\n",
    "\treturn line_img, img"
   ],
   "metadata": {
    "collapsed": false,
    "pycharm": {
     "name": "#%%\n",
     "is_executing": false
    }
   }
  },
  {
   "cell_type": "code",
   "execution_count": 9,
   "outputs": [
    {
     "data": {
      "text/plain": "-1"
     },
     "metadata": {},
     "output_type": "execute_result",
     "execution_count": 9
    }
   ],
   "source": [
    "lines = hough_lines(ROI_img)\n",
    "line_img, img = draw_lines(image, lines)\n",
    "cv2.imshow('line_img', line_img)\n",
    "cv2.imshow('img', img)\n",
    "cv2.waitKey(0)"
   ],
   "metadata": {
    "collapsed": false,
    "pycharm": {
     "name": "#%%\n",
     "is_executing": false
    }
   }
  },
  {
   "cell_type": "code",
   "execution_count": 10,
   "outputs": [],
   "source": [
    "#第6步：直线拟合，根据端点画出左右lane\n",
    "\n",
    "def group_line_and_draw(img, lines):\n",
    "\t\n",
    "\tleft_x,left_y,right_x,right_y=[],[],[],[]\n",
    "\tfor line in lines:\n",
    "\t\tfor x1,y1,x2,y2 in line:\n",
    "\t\t\tslope=(y2-y1)/(x2-x1)\n",
    "\t\t\tif abs(slope)<0.5: continue\n",
    "\t\t\tif slope<0:\n",
    "\t\t\t\tleft_x.extend([x1,x2])\n",
    "\t\t\t\tleft_y.extend([y1,y2])\n",
    "\t\t\tif slope>0:\n",
    "\t\t\t\tright_x.extend([x1,x2])\n",
    "\t\t\t\tright_y.extend([y1,y2])\n",
    "        #设定top 和 bottom的y值，left和right的y值都一样\n",
    "    min_y=int(img.shape[0]*(3/5))\n",
    "\tmax_y=int(img.shape[0])\n",
    "        \n",
    "        #对left的所有点进行线性拟合\n",
    "\tpoly_left = np.poly1d(np.polyfit(left_y,left_x,deg=1))\n",
    "\tleft_x_start = int(poly_left(max_y))\n",
    "\tleft_x_end = int(poly_left(min_y))\n",
    "        #对right的所有点进行线性拟合\n",
    "\tpoly_right = np.poly1d(np.polyfit(right_y,right_x,deg=1))\n",
    "\tright_x_start = int(poly_right(max_y))\n",
    "\tright_x_end = int(poly_right(min_y))\n",
    "\tline_image=draw_lines(img,[[\n",
    "                [left_x_start,max_y,left_x_end,min_y],\n",
    "                [right_x_start,max_y,right_x_end,min_y],          \n",
    "                ]],thickness=5)\n",
    "\t  return line_image\n",
    "\n"
   ],
   "metadata": {
    "collapsed": false,
    "pycharm": {
     "name": "#%%\n",
     "is_executing": false
    }
   }
  },
  {
   "cell_type": "code",
   "execution_count": 11,
   "outputs": [
    {
     "traceback": [
      "\u001b[1;31m---------------------------------------------------------------------------\u001b[0m",
      "\u001b[1;31mTypeError\u001b[0m                                 Traceback (most recent call last)",
      "\u001b[1;32m<ipython-input-11-3edb5df8dba0>\u001b[0m in \u001b[0;36m<module>\u001b[1;34m\u001b[0m\n\u001b[0;32m      1\u001b[0m \u001b[0mfinal_image\u001b[0m \u001b[1;33m=\u001b[0m \u001b[0mgroup_line_and_draw\u001b[0m\u001b[1;33m(\u001b[0m\u001b[0mimage\u001b[0m\u001b[1;33m,\u001b[0m \u001b[0mlines\u001b[0m\u001b[1;33m)\u001b[0m\u001b[1;33m\u001b[0m\u001b[1;33m\u001b[0m\u001b[0m\n\u001b[1;32m----> 2\u001b[1;33m \u001b[0mcv2\u001b[0m\u001b[1;33m.\u001b[0m\u001b[0mimshow\u001b[0m\u001b[1;33m(\u001b[0m\u001b[1;34m'result'\u001b[0m\u001b[1;33m,\u001b[0m \u001b[0mfinal_image\u001b[0m\u001b[1;33m)\u001b[0m\u001b[1;33m\u001b[0m\u001b[1;33m\u001b[0m\u001b[0m\n\u001b[0m\u001b[0;32m      3\u001b[0m \u001b[0mcv2\u001b[0m\u001b[1;33m.\u001b[0m\u001b[0mwaitKey\u001b[0m\u001b[1;33m(\u001b[0m\u001b[1;36m0\u001b[0m\u001b[1;33m)\u001b[0m\u001b[1;33m\u001b[0m\u001b[1;33m\u001b[0m\u001b[0m\n\u001b[0;32m      4\u001b[0m \u001b[0mcv2\u001b[0m\u001b[1;33m.\u001b[0m\u001b[0mdestroyWindow\u001b[0m\u001b[1;33m(\u001b[0m\u001b[1;34m'result'\u001b[0m\u001b[1;33m)\u001b[0m\u001b[1;33m\u001b[0m\u001b[1;33m\u001b[0m\u001b[0m\n\u001b[0;32m      5\u001b[0m \u001b[1;33m\u001b[0m\u001b[0m\n",
      "\u001b[1;31mTypeError\u001b[0m: Expected Ptr<cv::UMat> for argument '%s'"
     ],
     "ename": "TypeError",
     "evalue": "Expected Ptr<cv::UMat> for argument '%s'",
     "output_type": "error"
    }
   ],
   "source": [
    "final_image = group_line_and_draw(image, lines)\n",
    "\n",
    "cv2.imshow('result', final_image)\n",
    "cv2.waitKey(0)\n",
    "cv2.destroyWindow('result')"
   ],
   "metadata": {
    "collapsed": false,
    "pycharm": {
     "name": "#%%\n",
     "is_executing": false
    }
   }
  },
  {
   "cell_type": "code",
   "execution_count": null,
   "outputs": [],
   "source": [
    "\n"
   ],
   "metadata": {
    "collapsed": false,
    "pycharm": {
     "name": "#%%\n"
    }
   }
  }
 ],
 "metadata": {
  "kernelspec": {
   "display_name": "Python 3",
   "language": "python",
   "name": "python3"
  },
  "language_info": {
   "codemirror_mode": {
    "name": "ipython",
    "version": 2
   },
   "file_extension": ".py",
   "mimetype": "text/x-python",
   "name": "python",
   "nbconvert_exporter": "python",
   "pygments_lexer": "ipython2",
   "version": "2.7.6"
  },
  "pycharm": {
   "stem_cell": {
    "cell_type": "raw",
    "source": [],
    "metadata": {
     "collapsed": false
    }
   }
  }
 },
 "nbformat": 4,
 "nbformat_minor": 0
}